{
 "cells": [
  {
   "cell_type": "markdown",
   "metadata": {},
   "source": [
    "Understanding how customers are associating a brand with their own sentiments is crucial information to growth in industries. In this mini project, we have found associations between luxury cars discussed in Edmund’s forum and generated insights regarding what attributes are customers talking about when it comes to these brands\n",
    "\n",
    "Forum being scraped: https://forums.edmunds.com/discussion/2864/general/x/entry-level-luxury-performance-sedans/\n",
    "\n",
    "**Approach:**  \n",
    "1. Obtaining the data through web scraping  \n",
    "2. Data pre-processing  \n",
    "3. Visualizing brand association on an Multi dimensional scaling plot  \n",
    "4. Primary attributes associated with the brand \n",
    "5. Finding the aspirational brand that customers want to buy"
   ]
  },
  {
   "cell_type": "markdown",
   "metadata": {},
   "source": [
    "## 1. Obtaining the data through web scraping  "
   ]
  },
  {
   "cell_type": "code",
   "execution_count": 100,
   "metadata": {},
   "outputs": [],
   "source": [
    "# import selenium\n",
    "# from selenium import webdriver\n",
    "# from selenium.webdriver.common.keys import Keys\n",
    "# from selenium.webdriver.support.ui import WebDriverWait\n",
    "# import pandas as pd\n",
    "\n",
    "# chrome_options = webdriver.ChromeOptions()\n",
    "# chrome_options.add_argument('--no-sandbox')\n",
    "# chromepath = r'C:\\\\Users\\\\Akhil\\\\Desktop\\\\Fall\\\\Text Analytics\\\\Assignment 2\\\\chromedriver_win32\\\\chromedriver.exe'\n",
    "# driver = webdriver.Chrome(executable_path = chromepath, chrome_options=chrome_options)\n",
    "\n",
    "\n",
    "# def extracting_comments():\n",
    "#     commentSet = driver.find_element_by_xpath('//*[@id=\"Content\"]/div[4]/div[1]/ul')\n",
    "#     comm_ids = commentSet.find_elements_by_tag_name('li')\n",
    "\n",
    "#     comm_id_list = []\n",
    "#     for comm_id in comm_ids:\n",
    "#         comm_id_list.append(comm_id.get_attribute('id'))\n",
    "\n",
    "#     # Cleaning blank strings from the list\n",
    "#     comm_id_list_cleaned = [x for x in comm_id_list if x != '']\n",
    "\n",
    "#     c_list = []\n",
    "#     # Printing the comments for each discussion\n",
    "#     for comm_id in comm_id_list_cleaned:\n",
    "#         comm_userid = driver.find_elements_by_xpath(f'//*[@id=\"{comm_id}\"]/div/div[2]/div[1]/span[1]/a[1]')\n",
    "#         c_userid = comm_userid[0].get_attribute('title')\n",
    "        \n",
    "#         comm_date = driver.find_elements_by_xpath(f'//*[@id=\"{comm_id}\"]/div/div[2]/div[2]/span/a/time')\n",
    "#         c_date = comm_date[0].get_attribute('datetime')\n",
    "\n",
    "#         comm_text =  driver.find_element_by_xpath(f'//*[@id=\"{comm_id}\"]/div/div[3]/div/div[1]')\n",
    "#         c_message = comm_text.text\n",
    "        \n",
    "#         block_quote =  driver.find_element_by_xpath(f'//*[@id=\"{comm_id}\"]/div/div[3]/div/div[1]')\n",
    "#         bq_1 = block_quote.find_elements_by_class_name('UserQuote')\n",
    "#         if len(bq_1)!= 0:\n",
    "#             b_message = bq_1[0].text\n",
    "#         else:\n",
    "#             b_message = ''\n",
    "        \n",
    "#         c_list.append([c_userid,c_date,c_message,b_message])\n",
    "#     return c_list\n",
    "\n",
    "\n",
    "\n",
    "# c_list_data = []\n",
    "\n",
    "# if __name__ == \"__main__\":\n",
    "#     i = 702\n",
    "#     while i > 530:\n",
    "#         url = f'https://forums.edmunds.com/discussion/2864/general/x/entry-level-luxury-performance-sedans/p{i}'\n",
    "#         driver.get(url)\n",
    "#         k = extracting_comments()\n",
    "#         c_list_data.extend(k)\n",
    "#         i -= 1\n",
    "\n",
    "# comments_df = pd.DataFrame(c_list_data,columns = ['userid','date','comments','b_quote'])\n",
    "# def blockquotes(a,b):\n",
    "#     x = a.replace(b,'')\n",
    "#     x = x.replace('\\n','')\n",
    "#     return x\n",
    "\n",
    "# comments_df['cleaned_comments'] = comments_df.apply(lambda row: blockquotes(row['comments'],row['b_quote']),axis = 1)\n",
    "# comments_df.to_csv('General auto comments_wo_bq.csv',index = False)"
   ]
  },
  {
   "cell_type": "markdown",
   "metadata": {},
   "source": [
    "## 2. Data pre-processing  "
   ]
  },
  {
   "cell_type": "code",
   "execution_count": 7,
   "metadata": {},
   "outputs": [],
   "source": [
    "import pandas as pd\n",
    "\n",
    "# Import the data that will be used. models3.csv is an updated version of model-brand pairings and Attibutes3.csv\n",
    "# is a list of feature-attribute pairings that will be used for Tasks C and D.\n",
    "\n",
    "df = pd.read_csv('General auto comments_wo_bq.csv')\n",
    "df1 = df.drop(columns = ['b_quote','comments'],axis = 1)\n",
    "brand_model_mapping = pd.read_csv('models3.csv',engine='python')\n",
    "attribute_mapping = pd.read_csv('Attributes3.csv',engine='python')\n",
    "\n",
    "df1 = df1.dropna(subset = ['cleaned_comments'])\n",
    "df1.reset_index(inplace= True)\n",
    "df1 = df1.drop(['index'],axis = 1)"
   ]
  },
  {
   "cell_type": "code",
   "execution_count": 8,
   "metadata": {},
   "outputs": [],
   "source": [
    "# Prepare a dictionary to replace Models with Brands\n",
    "bm_mapping = {}\n",
    "import re\n",
    "for i in range(0,brand_model_mapping.shape[0]):\n",
    "    s = brand_model_mapping.loc[i,'model'].strip().lower()\n",
    "    bm_mapping[s] = brand_model_mapping.loc[i,'brand']"
   ]
  },
  {
   "cell_type": "code",
   "execution_count": 10,
   "metadata": {},
   "outputs": [],
   "source": [
    "import nltk\n",
    "from nltk import word_tokenize\n",
    "\n",
    "# Identifying the unique words in each post\n",
    "split_comments = []\n",
    "for i in range(0,df1.shape[0]):\n",
    "    split_comments.append(word_tokenize(df1.loc[i,'cleaned_comments'].decode('utf-8').lower()))\n",
    "df1['split_comments'] = split_comments\n",
    "\n",
    "# Replacing the models\n",
    "cl1 = []\n",
    "for i in range(0,df1.shape[0]):\n",
    "    cl1.append(set([bm_mapping.get(n, n) for n in df1.loc[i,'split_comments']]))"
   ]
  },
  {
   "cell_type": "code",
   "execution_count": 11,
   "metadata": {},
   "outputs": [],
   "source": [
    "# Importing the stopwords for later\n",
    "from nltk.corpus import stopwords\n",
    "stop_words = set(stopwords.words('english')) "
   ]
  },
  {
   "cell_type": "code",
   "execution_count": 12,
   "metadata": {},
   "outputs": [],
   "source": [
    "# Remove stopwords and get the word frequencies for each comment on the forum.\n",
    "final_list = []\n",
    "for c in cl1:\n",
    "    final_list.extend(c)\n",
    "\n",
    "list_wo_stopwords = []\n",
    "for w in final_list:\n",
    "    if w not in stop_words:\n",
    "        list_wo_stopwords.append(w)\n",
    "\n",
    "fdist = nltk.FreqDist(w.lower() for w in list_wo_stopwords)"
   ]
  },
  {
   "cell_type": "code",
   "execution_count": 13,
   "metadata": {},
   "outputs": [],
   "source": [
    "# Get the mention frequency for all brands\n",
    "word_counts = dict(fdist)\n",
    "brand_list_temp = set(brand_model_mapping['brand'])\n",
    "brands_count = {k: word_counts.get(k, None) for k in brand_list_temp}"
   ]
  },
  {
   "cell_type": "code",
   "execution_count": 14,
   "metadata": {},
   "outputs": [
    {
     "data": {
      "text/plain": [
       "[('bmw', 1464),\n",
       " ('audi', 1104),\n",
       " ('acura', 659),\n",
       " ('mercedes', 431),\n",
       " ('cadillac', 341),\n",
       " ('honda', 337),\n",
       " ('infiniti', 329),\n",
       " ('volkswagen', 266),\n",
       " ('ford', 250),\n",
       " ('lexus', 200)]"
      ]
     },
     "execution_count": 14,
     "metadata": {},
     "output_type": "execute_result"
    }
   ],
   "source": [
    "# Get the top 10 brands\n",
    "brands_sorted = sorted(brands_count.items(), key=lambda kv: kv[1],reverse = True)\n",
    "top_brands = brands_sorted[:10]\n",
    "top_brnds = {}\n",
    "for l in top_brands:\n",
    "    top_brnds[l[0]] = l[1]\n",
    "top_brands"
   ]
  },
  {
   "cell_type": "markdown",
   "metadata": {},
   "source": [
    "The top 10 brands mentioned in the forum are: BMW, Audi, Acura, Mercedes, Cadillac, Honda, Infiniti, Volkswagen, Ford, and Lexus"
   ]
  },
  {
   "cell_type": "markdown",
   "metadata": {},
   "source": [
    "## Top 10 brands by frequency"
   ]
  },
  {
   "cell_type": "code",
   "execution_count": 15,
   "metadata": {},
   "outputs": [],
   "source": [
    "# Creating pairs for the top 10 brands\n",
    "import random\n",
    "import itertools\n",
    " \n",
    "def get_random_pairs(words):\n",
    "  # Generate all possible non-repeating pairs\n",
    "  pairs = list(itertools.permutations(words, 2))\n",
    " \n",
    "  # Randomly shuffle these pairs\n",
    "  # random.shuffle(pairs)\n",
    "  return pairs"
   ]
  },
  {
   "cell_type": "code",
   "execution_count": 17,
   "metadata": {},
   "outputs": [],
   "source": [
    "# Generate matched pairs for the top 10 brands\n",
    "l = [k[0] for k in top_brands] \n",
    "random.seed(1)\n",
    "pairs = get_random_pairs(l)"
   ]
  },
  {
   "cell_type": "code",
   "execution_count": 18,
   "metadata": {},
   "outputs": [],
   "source": [
    "# Calculating presence of each pair in posts\n",
    "pairs_dic = {k:0 for k in pairs}\n",
    "\n",
    "\n",
    "for key,value in pairs_dic.items():\n",
    "    a = key[0]\n",
    "    b = key[1]\n",
    "    for l in cl1:\n",
    "        if a in l and b in l:\n",
    "            pairs_dic[key] = pairs_dic[key] + 1\n",
    "\n",
    "#lift value calculation\n",
    "lift_dic = {}\n",
    "for key,value in pairs_dic.items():\n",
    "    cooccur = value\n",
    "    # occurence of a\n",
    "    a = key[0]\n",
    "    b = key[1]\n",
    "    occur_a = top_brnds[a]\n",
    "    occur_b = top_brnds[b]\n",
    "    lift_dic[key] = (len(cl1)*cooccur)/(occur_a*occur_b)"
   ]
  },
  {
   "cell_type": "code",
   "execution_count": 19,
   "metadata": {},
   "outputs": [
    {
     "data": {
      "text/plain": [
       "[(('lexus', 'infiniti'), 5),\n",
       " (('infiniti', 'lexus'), 5),\n",
       " (('cadillac', 'lexus'), 4),\n",
       " (('lexus', 'mercedes'), 4),\n",
       " (('mercedes', 'lexus'), 4),\n",
       " (('lexus', 'cadillac'), 4),\n",
       " (('acura', 'infiniti'), 3),\n",
       " (('honda', 'acura'), 3),\n",
       " (('cadillac', 'mercedes'), 3),\n",
       " (('infiniti', 'acura'), 3)]"
      ]
     },
     "execution_count": 19,
     "metadata": {},
     "output_type": "execute_result"
    }
   ],
   "source": [
    "# Get the top 10 lift calculations for brand comparisons\n",
    "lift_dic_sorted = sorted(lift_dic.items(), key=lambda kv: kv[1],reverse = True)\n",
    "lift_dic_sorted[:10]"
   ]
  },
  {
   "cell_type": "code",
   "execution_count": 20,
   "metadata": {},
   "outputs": [],
   "source": [
    "# Create a dissimilarity matrix for use in the MDS plot\n",
    "import numpy as np\n",
    "k = pd.DataFrame(lift_dic_sorted)\n",
    "k.columns = ['a','b']\n",
    "k[['l1', 'l2']] = k['a'].apply(pd.Series)\n",
    "\n",
    "k['lift_measure'] = 1/k['b']\n",
    "max_diss_value = max(k[k['lift_measure'] != np.inf]['lift_measure'])\n",
    "\n",
    "k2 = k.drop(columns = ['a','b'],axis = 1)\n",
    "k3 = pd.pivot_table(k2,index = ['l1'],columns = ['l2'],values = ['lift_measure'])\n",
    "k4 = k3.fillna(0).reset_index()\n",
    "k5 = k4.replace(np.inf,max_diss_value)"
   ]
  },
  {
   "cell_type": "code",
   "execution_count": 21,
   "metadata": {},
   "outputs": [
    {
     "data": {
      "text/html": [
       "<div>\n",
       "<style scoped>\n",
       "    .dataframe tbody tr th:only-of-type {\n",
       "        vertical-align: middle;\n",
       "    }\n",
       "\n",
       "    .dataframe tbody tr th {\n",
       "        vertical-align: top;\n",
       "    }\n",
       "\n",
       "    .dataframe thead tr th {\n",
       "        text-align: left;\n",
       "    }\n",
       "</style>\n",
       "<table border=\"1\" class=\"dataframe\">\n",
       "  <thead>\n",
       "    <tr>\n",
       "      <th></th>\n",
       "      <th>l1</th>\n",
       "      <th colspan=\"10\" halign=\"left\">lift</th>\n",
       "    </tr>\n",
       "    <tr>\n",
       "      <th>l2</th>\n",
       "      <th></th>\n",
       "      <th>acura</th>\n",
       "      <th>audi</th>\n",
       "      <th>bmw</th>\n",
       "      <th>cadillac</th>\n",
       "      <th>ford</th>\n",
       "      <th>honda</th>\n",
       "      <th>infiniti</th>\n",
       "      <th>lexus</th>\n",
       "      <th>mercedes</th>\n",
       "      <th>volkswagen</th>\n",
       "    </tr>\n",
       "  </thead>\n",
       "  <tbody>\n",
       "    <tr>\n",
       "      <th>0</th>\n",
       "      <td>acura</td>\n",
       "      <td>0.0</td>\n",
       "      <td>1.0</td>\n",
       "      <td>1.0</td>\n",
       "      <td>1.0</td>\n",
       "      <td>0.0</td>\n",
       "      <td>3.0</td>\n",
       "      <td>3.0</td>\n",
       "      <td>2.0</td>\n",
       "      <td>2.0</td>\n",
       "      <td>1.0</td>\n",
       "    </tr>\n",
       "    <tr>\n",
       "      <th>1</th>\n",
       "      <td>audi</td>\n",
       "      <td>1.0</td>\n",
       "      <td>0.0</td>\n",
       "      <td>1.0</td>\n",
       "      <td>2.0</td>\n",
       "      <td>1.0</td>\n",
       "      <td>1.0</td>\n",
       "      <td>2.0</td>\n",
       "      <td>2.0</td>\n",
       "      <td>2.0</td>\n",
       "      <td>2.0</td>\n",
       "    </tr>\n",
       "    <tr>\n",
       "      <th>2</th>\n",
       "      <td>bmw</td>\n",
       "      <td>1.0</td>\n",
       "      <td>1.0</td>\n",
       "      <td>0.0</td>\n",
       "      <td>1.0</td>\n",
       "      <td>1.0</td>\n",
       "      <td>1.0</td>\n",
       "      <td>1.0</td>\n",
       "      <td>2.0</td>\n",
       "      <td>2.0</td>\n",
       "      <td>1.0</td>\n",
       "    </tr>\n",
       "    <tr>\n",
       "      <th>3</th>\n",
       "      <td>cadillac</td>\n",
       "      <td>1.0</td>\n",
       "      <td>2.0</td>\n",
       "      <td>1.0</td>\n",
       "      <td>0.0</td>\n",
       "      <td>1.0</td>\n",
       "      <td>1.0</td>\n",
       "      <td>2.0</td>\n",
       "      <td>4.0</td>\n",
       "      <td>3.0</td>\n",
       "      <td>1.0</td>\n",
       "    </tr>\n",
       "    <tr>\n",
       "      <th>4</th>\n",
       "      <td>ford</td>\n",
       "      <td>0.0</td>\n",
       "      <td>1.0</td>\n",
       "      <td>1.0</td>\n",
       "      <td>1.0</td>\n",
       "      <td>0.0</td>\n",
       "      <td>1.0</td>\n",
       "      <td>1.0</td>\n",
       "      <td>1.0</td>\n",
       "      <td>1.0</td>\n",
       "      <td>1.0</td>\n",
       "    </tr>\n",
       "    <tr>\n",
       "      <th>5</th>\n",
       "      <td>honda</td>\n",
       "      <td>3.0</td>\n",
       "      <td>1.0</td>\n",
       "      <td>1.0</td>\n",
       "      <td>1.0</td>\n",
       "      <td>1.0</td>\n",
       "      <td>0.0</td>\n",
       "      <td>1.0</td>\n",
       "      <td>2.0</td>\n",
       "      <td>1.0</td>\n",
       "      <td>2.0</td>\n",
       "    </tr>\n",
       "    <tr>\n",
       "      <th>6</th>\n",
       "      <td>infiniti</td>\n",
       "      <td>3.0</td>\n",
       "      <td>2.0</td>\n",
       "      <td>1.0</td>\n",
       "      <td>2.0</td>\n",
       "      <td>1.0</td>\n",
       "      <td>1.0</td>\n",
       "      <td>0.0</td>\n",
       "      <td>5.0</td>\n",
       "      <td>2.0</td>\n",
       "      <td>1.0</td>\n",
       "    </tr>\n",
       "    <tr>\n",
       "      <th>7</th>\n",
       "      <td>lexus</td>\n",
       "      <td>2.0</td>\n",
       "      <td>2.0</td>\n",
       "      <td>2.0</td>\n",
       "      <td>4.0</td>\n",
       "      <td>1.0</td>\n",
       "      <td>2.0</td>\n",
       "      <td>5.0</td>\n",
       "      <td>0.0</td>\n",
       "      <td>4.0</td>\n",
       "      <td>1.0</td>\n",
       "    </tr>\n",
       "    <tr>\n",
       "      <th>8</th>\n",
       "      <td>mercedes</td>\n",
       "      <td>2.0</td>\n",
       "      <td>2.0</td>\n",
       "      <td>2.0</td>\n",
       "      <td>3.0</td>\n",
       "      <td>1.0</td>\n",
       "      <td>1.0</td>\n",
       "      <td>2.0</td>\n",
       "      <td>4.0</td>\n",
       "      <td>0.0</td>\n",
       "      <td>1.0</td>\n",
       "    </tr>\n",
       "    <tr>\n",
       "      <th>9</th>\n",
       "      <td>volkswagen</td>\n",
       "      <td>1.0</td>\n",
       "      <td>2.0</td>\n",
       "      <td>1.0</td>\n",
       "      <td>1.0</td>\n",
       "      <td>1.0</td>\n",
       "      <td>2.0</td>\n",
       "      <td>1.0</td>\n",
       "      <td>1.0</td>\n",
       "      <td>1.0</td>\n",
       "      <td>0.0</td>\n",
       "    </tr>\n",
       "  </tbody>\n",
       "</table>\n",
       "</div>"
      ],
      "text/plain": [
       "            l1  lift                                                        \\\n",
       "l2             acura audi  bmw cadillac ford honda infiniti lexus mercedes   \n",
       "0        acura   0.0  1.0  1.0      1.0  0.0   3.0      3.0   2.0      2.0   \n",
       "1         audi   1.0  0.0  1.0      2.0  1.0   1.0      2.0   2.0      2.0   \n",
       "2          bmw   1.0  1.0  0.0      1.0  1.0   1.0      1.0   2.0      2.0   \n",
       "3     cadillac   1.0  2.0  1.0      0.0  1.0   1.0      2.0   4.0      3.0   \n",
       "4         ford   0.0  1.0  1.0      1.0  0.0   1.0      1.0   1.0      1.0   \n",
       "5        honda   3.0  1.0  1.0      1.0  1.0   0.0      1.0   2.0      1.0   \n",
       "6     infiniti   3.0  2.0  1.0      2.0  1.0   1.0      0.0   5.0      2.0   \n",
       "7        lexus   2.0  2.0  2.0      4.0  1.0   2.0      5.0   0.0      4.0   \n",
       "8     mercedes   2.0  2.0  2.0      3.0  1.0   1.0      2.0   4.0      0.0   \n",
       "9   volkswagen   1.0  2.0  1.0      1.0  1.0   2.0      1.0   1.0      1.0   \n",
       "\n",
       "               \n",
       "l2 volkswagen  \n",
       "0         1.0  \n",
       "1         2.0  \n",
       "2         1.0  \n",
       "3         1.0  \n",
       "4         1.0  \n",
       "5         2.0  \n",
       "6         1.0  \n",
       "7         1.0  \n",
       "8         1.0  \n",
       "9         0.0  "
      ]
     },
     "execution_count": 21,
     "metadata": {},
     "output_type": "execute_result"
    }
   ],
   "source": [
    "# Create a table with all calculated lifts\n",
    "lift_chart = pd.DataFrame(lift_dic_sorted)\n",
    "lift_chart.columns = ['a','b']\n",
    "lift_chart[['l1', 'l2']] = lift_chart['a'].apply(pd.Series)\n",
    "\n",
    "lift_chart['lift'] = lift_chart['b']\n",
    "lift_chart = lift_chart.drop(columns = ['a','b'],axis = 1)\n",
    "lift_table = pd.pivot_table(lift_chart,index = ['l1'],columns = ['l2'],values = ['lift'])\n",
    "lift_table = lift_table.fillna(0).reset_index()\n",
    "\n",
    "lift_table"
   ]
  },
  {
   "cell_type": "markdown",
   "metadata": {},
   "source": [
    "## 3. Visualizing brand association on an Multi dimensional scaling plot  ulti-dimensional scaling (MDS) map."
   ]
  },
  {
   "cell_type": "code",
   "execution_count": 23,
   "metadata": {},
   "outputs": [
    {
     "data": {
      "image/png": "[encoded data removed]",
      "text/plain": [
       "<Figure size 432x288 with 1 Axes>"
      ]
     },
     "metadata": {},
     "output_type": "display_data"
    }
   ],
   "source": [
    "# Create the MDS plot with the top 10 mentioned brands\n",
    "import numpy as np\n",
    "import matplotlib.pyplot as plt\n",
    "from sklearn import manifold\n",
    "\n",
    "data = k5\n",
    "data.columns = data.columns.get_level_values(0)\n",
    "l = []\n",
    "for i in range(0,data.shape[0]):\n",
    "    l.append(list(data.iloc[i,:].values))\n",
    "\n",
    "dists = []\n",
    "cars = []\n",
    "for d in l:\n",
    "    cars.append(d[0])\n",
    "    dists.append(d[1:])\n",
    "\n",
    "adist = np.array(dists)\n",
    "amax = np.amax(adist)\n",
    "mds = manifold.MDS(n_components=2, dissimilarity=\"precomputed\", random_state=6)\n",
    "results = mds.fit(adist)\n",
    "\n",
    "coords = results.embedding_\n",
    "plt.subplots_adjust(bottom = 0.1)\n",
    "plt.scatter(\n",
    "    coords[:, 0], coords[:, 1], marker = 'o'\n",
    "    )\n",
    "\n",
    "from pylab import rcParams\n",
    "plt.rcParams['figure.figsize'] = 10, 5\n",
    "\n",
    "for label, x, y in zip(cars, coords[:, 0], coords[:, 1]):\n",
    "    plt.annotate(\n",
    "        label,\n",
    "        xy = (x, y), xytext = (-20, 20),\n",
    "        textcoords = 'offset points', ha = 'right', va = 'bottom',\n",
    "        bbox = dict(boxstyle = 'round,pad=0.5', fc = 'yellow', alpha = 0.5),\n",
    "        arrowprops = dict(arrowstyle = '->', connectionstyle = 'arc3,rad=0'))\n",
    "\n",
    "plt.show()"
   ]
  },
  {
   "cell_type": "markdown",
   "metadata": {},
   "source": [
    "## Insights to brand managers based on the MDS plot"
   ]
  },
  {
   "cell_type": "markdown",
   "metadata": {},
   "source": [
    "Our MDS plot confirms the suspicions that Cadillac has successfully brought itself back from the dead. Enthusiasts have begun saying it has surpassed the German luxury brand BMW. To quote a recent verge article comparing the ATS-V, Cadillac’s prime performance model, with the BMW M3, “The idea that a Cadillac could ever compete with a M3 would once have been heresy. But the current generation M3 has lost its way.” This trend can be seen on the plot, where Cadillac has successfully rejoined the cluster ranks of true luxury with strong associations with Lexus, Infiniti and Mercedes."
   ]
  },
  {
   "cell_type": "markdown",
   "metadata": {},
   "source": [
    "## 4. Primary attributes associated with the brand \n",
    "5 most frequently mentioned attributes of cars in the discussions and the attributes that are most strongly associated with which of these 5 brands"
   ]
  },
  {
   "cell_type": "code",
   "execution_count": 24,
   "metadata": {},
   "outputs": [
    {
     "data": {
      "text/html": [
       "<div>\n",
       "<style scoped>\n",
       "    .dataframe tbody tr th:only-of-type {\n",
       "        vertical-align: middle;\n",
       "    }\n",
       "\n",
       "    .dataframe tbody tr th {\n",
       "        vertical-align: top;\n",
       "    }\n",
       "\n",
       "    .dataframe thead th {\n",
       "        text-align: right;\n",
       "    }\n",
       "</style>\n",
       "<table border=\"1\" class=\"dataframe\">\n",
       "  <thead>\n",
       "    <tr style=\"text-align: right;\">\n",
       "      <th></th>\n",
       "      <th>Feature</th>\n",
       "    </tr>\n",
       "    <tr>\n",
       "      <th>Mapping</th>\n",
       "      <th></th>\n",
       "    </tr>\n",
       "  </thead>\n",
       "  <tbody>\n",
       "    <tr>\n",
       "      <th>comfort</th>\n",
       "      <td>luxury room tall interior interiors luxurious ...</td>\n",
       "    </tr>\n",
       "    <tr>\n",
       "      <th>console</th>\n",
       "      <td>gps navigation nav dashboard monitor dash cons...</td>\n",
       "    </tr>\n",
       "    <tr>\n",
       "      <th>efficiency</th>\n",
       "      <td>efficiency mileage mpg gas efficient fuel economy</td>\n",
       "    </tr>\n",
       "    <tr>\n",
       "      <th>maintenance</th>\n",
       "      <td>warranty warranties maintenance repair service...</td>\n",
       "    </tr>\n",
       "    <tr>\n",
       "      <th>performance</th>\n",
       "      <td>performance awd fwd rwd power turbocharge hors...</td>\n",
       "    </tr>\n",
       "    <tr>\n",
       "      <th>safety</th>\n",
       "      <td>safety safe airbags airbag tires tire radial g...</td>\n",
       "    </tr>\n",
       "    <tr>\n",
       "      <th>styling</th>\n",
       "      <td>sunroof color paint alloys wheels wheel chrome...</td>\n",
       "    </tr>\n",
       "  </tbody>\n",
       "</table>\n",
       "</div>"
      ],
      "text/plain": [
       "                                                       Feature\n",
       "Mapping                                                       \n",
       "comfort      luxury room tall interior interiors luxurious ...\n",
       "console      gps navigation nav dashboard monitor dash cons...\n",
       "efficiency   efficiency mileage mpg gas efficient fuel economy\n",
       "maintenance  warranty warranties maintenance repair service...\n",
       "performance  performance awd fwd rwd power turbocharge hors...\n",
       "safety       safety safe airbags airbag tires tire radial g...\n",
       "styling      sunroof color paint alloys wheels wheel chrome..."
      ]
     },
     "execution_count": 24,
     "metadata": {},
     "output_type": "execute_result"
    }
   ],
   "source": [
    "# Show examples of the features mapped to attributes\n",
    "attribute_mapping.groupby('Mapping').agg(lambda x: ' '.join(x))"
   ]
  },
  {
   "cell_type": "code",
   "execution_count": 25,
   "metadata": {},
   "outputs": [],
   "source": [
    "# Creating the pairs between brands and attributes\n",
    "top_5 = ['bmw','audi','acura','mercedes','honda']\n",
    "final_attributes = list(set(attribute_mapping['Mapping']))\n",
    "brand_att_pairs = []\n",
    "for i in top_5:\n",
    "    for j in final_attributes:\n",
    "        brand_att_pairs.append((i,j))"
   ]
  },
  {
   "cell_type": "code",
   "execution_count": 26,
   "metadata": {},
   "outputs": [],
   "source": [
    "# Calculating presence of each pair in posts\n",
    "pairs_ba_dic = {k:0 for k in brand_att_pairs}\n",
    "\n",
    "for key,value in pairs_ba_dic.items():\n",
    "    a = key[0]\n",
    "    b = key[1]\n",
    "    k = list(attribute_mapping[attribute_mapping['Mapping'] == b]['Feature'])\n",
    "    for l in cl1:\n",
    "        if a in l and any(i in l for i in k):\n",
    "            pairs_ba_dic[key] = pairs_ba_dic[key] + 1\n",
    "\n",
    "final_attributes_count = {k:0 for k in final_attributes}\n",
    "for a in final_attributes:\n",
    "    k = list(attribute_mapping[attribute_mapping['Mapping'] == a]['Feature'])\n",
    "    for l in cl1:\n",
    "        if any(i in l for i in k):\n",
    "            final_attributes_count[a] = final_attributes_count[a] + 1\n",
    "\n",
    "# Lift value calculation\n",
    "lift_ba_dic = {}\n",
    "for key,value in pairs_ba_dic.items():\n",
    "    cooccur = value\n",
    "    # occurence of brand a\n",
    "    a = key[0]\n",
    "    b = key[1]\n",
    "    occur_a = top_brnds[a]\n",
    "    occur_b = final_attributes_count[b]\n",
    "    lift_ba_dic[key] = (len(cl1)*cooccur)/(occur_a*occur_b)"
   ]
  },
  {
   "cell_type": "code",
   "execution_count": 27,
   "metadata": {},
   "outputs": [
    {
     "data": {
      "text/plain": [
       "[('performance', 1851),\n",
       " ('comfort', 741),\n",
       " ('maintenance', 474),\n",
       " ('styling', 425),\n",
       " ('safety', 366),\n",
       " ('efficiency', 354),\n",
       " ('console', 296)]"
      ]
     },
     "execution_count": 27,
     "metadata": {},
     "output_type": "execute_result"
    }
   ],
   "source": [
    "# Show number of comments that mention a particular attribute\n",
    "final_attributes_sorted = sorted(final_attributes_count.items(), key=lambda kv: kv[1],reverse = True)\n",
    "final_attributes_sorted"
   ]
  },
  {
   "cell_type": "markdown",
   "metadata": {},
   "source": [
    "The top 5 are attributes mentioned are performance, comfort, maintenance, styling, and safety"
   ]
  },
  {
   "cell_type": "code",
   "execution_count": 28,
   "metadata": {},
   "outputs": [
    {
     "data": {
      "text/plain": [
       "[(('audi', 'console'), 2),\n",
       " (('acura', 'styling'), 2),\n",
       " (('honda', 'safety'), 2),\n",
       " (('mercedes', 'comfort'), 2),\n",
       " (('honda', 'efficiency'), 2),\n",
       " (('honda', 'comfort'), 2),\n",
       " (('audi', 'styling'), 2),\n",
       " (('bmw', 'safety'), 1),\n",
       " (('acura', 'performance'), 1),\n",
       " (('acura', 'comfort'), 1),\n",
       " (('honda', 'maintenance'), 1),\n",
       " (('mercedes', 'console'), 1),\n",
       " (('audi', 'maintenance'), 1),\n",
       " (('mercedes', 'styling'), 1),\n",
       " (('audi', 'performance'), 1),\n",
       " (('mercedes', 'maintenance'), 1),\n",
       " (('honda', 'styling'), 1),\n",
       " (('audi', 'comfort'), 1),\n",
       " (('honda', 'console'), 1),\n",
       " (('acura', 'safety'), 1),\n",
       " (('bmw', 'console'), 1),\n",
       " (('bmw', 'comfort'), 1),\n",
       " (('acura', 'efficiency'), 1),\n",
       " (('bmw', 'performance'), 1),\n",
       " (('bmw', 'maintenance'), 1),\n",
       " (('audi', 'safety'), 1),\n",
       " (('honda', 'performance'), 1),\n",
       " (('acura', 'maintenance'), 1),\n",
       " (('audi', 'efficiency'), 1),\n",
       " (('mercedes', 'performance'), 1),\n",
       " (('mercedes', 'efficiency'), 1),\n",
       " (('bmw', 'efficiency'), 1),\n",
       " (('acura', 'console'), 1),\n",
       " (('bmw', 'styling'), 1),\n",
       " (('mercedes', 'safety'), 0)]"
      ]
     },
     "execution_count": 28,
     "metadata": {},
     "output_type": "execute_result"
    }
   ],
   "source": [
    "# Show lift values between the top 5 brands and all 7 attributes\n",
    "lift_ba_dic_sorted = sorted(lift_ba_dic.items(), key=lambda kv: kv[1],reverse = True)\n",
    "lift_ba_dic_sorted"
   ]
  },
  {
   "cell_type": "markdown",
   "metadata": {},
   "source": [
    "### While BMW has claimed that they are the “ultimate driving machine”, is that how people feel on Edmunds?"
   ]
  },
  {
   "cell_type": "markdown",
   "metadata": {},
   "source": [
    "Based on our lift calculations, BMW is far from being the \"ultimate driving machine\" on Edmunds. BMW and the different car attributes have comparitively low lift values to the other top brands. This implies that when people are talking about different desirable car features, BMW does not come to mind."
   ]
  },
  {
   "cell_type": "markdown",
   "metadata": {},
   "source": [
    "## Advice to product manager and marketing/advertising manager of these brands based on the above analysis"
   ]
  },
  {
   "cell_type": "markdown",
   "metadata": {},
   "source": [
    "i) Other than BMW, all of the other brands have high lift with the desirable car attributes. Each has a high lift exclusively in its own area, except for Audi and Acura. For the different product managers: Honda can continue working with its efficiency and safety features, Mercedes can continue working with its comfort features, and Audi and Acura can continue using their respective styling features. BMW and Mercedes both have extremely low lift values for several features. The product managers for these brands need to place greater emphasis on these feature areas.\n",
    "\n",
    "ii) Honda's advertising manager is working with a product with several marketable strengths, such as efficiency, safety, and comfort. If the manager could do more to get people to associate performance with Honda, then Honda would have the strongest reputation that it possibly could among Edmunds forum users. Mercedes needs to market more of its features other than comfort, as it is the only feature Mercedes is the prime example for (in the top 5 brands). Audi and Acura both have styling as a part of their brand reputations. Advertising managers for these companies need not worry about the other since our MDS plot shows that Audi and Acura are dissimilar enough to imply that their markets have only small intersections. Lastly, BMW needs to do a better job at marketing its product overall. "
   ]
  },
  {
   "cell_type": "markdown",
   "metadata": {},
   "source": [
    "## 5. Finding the aspirational brand that customers want to buy\n",
    "Most aspirational brand in your data in terms of people actually wanting to buy or own "
   ]
  },
  {
   "cell_type": "code",
   "execution_count": 29,
   "metadata": {},
   "outputs": [],
   "source": [
    "# Words associated with Aspiration\n",
    "asps = [\"next car\", \"winner\", \"favor\", \"prefer\", \"most promise\", \"bang for your buck\", \"bang for buck\", \"go drive\", \n",
    "       \"go for\", \"dream of\", \"want\", \"heart\", \"dream\", \"buy\", \"purchase\", \"love\", \"wanted\", \"decided to\", \"desire\",\n",
    "       \"desirable\", \"go with\", \"top of\", \"better value\", \"seriously look\", \"leaning\", \"look at\", \n",
    "       'anticipate', 'expect']"
   ]
  },
  {
   "cell_type": "code",
   "execution_count": 30,
   "metadata": {},
   "outputs": [],
   "source": [
    "# Build a lift class\n",
    "class lift:\n",
    "    N = 0\n",
    "    corpus = None\n",
    "    #input an array-like corpus to init\n",
    "    def __init__(self, corpus):\n",
    "        # required structure: a nested list with each sub-list place the document at place 2\n",
    "        self.N = len(corpus)\n",
    "        self.corpus = corpus\n",
    "    \n",
    "    def __count__(self, keyword1, keyword2 = None):\n",
    "        if self.corpus == None:\n",
    "            print(\"unspecified corpus\")\n",
    "            return\n",
    "        count = 0\n",
    "        if keyword2 == None:\n",
    "            for node in self.corpus: \n",
    "                if keyword1 in node:\n",
    "                    count = count +1 \n",
    "            return count\n",
    "        for node in self.corpus: \n",
    "            if keyword1 in node[2] and keyword2 in node[2]:\n",
    "                count = count+1\n",
    "        return count"
   ]
  },
  {
   "cell_type": "code",
   "execution_count": 31,
   "metadata": {},
   "outputs": [],
   "source": [
    "# Define a function that will read each message, find brand mentions, identify an amount of words before and after the \n",
    "# brand mention and determine if a specified word(s) is within that span\n",
    "def myIdentifier(article, brand, attribute, span = 3):\n",
    "    rt = 0\n",
    "    #define the span we're testing for\n",
    "    leftpos = None\n",
    "    rightpos = None\n",
    "    #need to testify all the occurance of brand\n",
    "    poses = [m.start() for m in re.finditer(brand, article)]\n",
    "    for pos in poses: \n",
    "        temp = pos\n",
    "        blank = 0\n",
    "        #to prior\n",
    "        while 1: \n",
    "            try:\n",
    "                if article[pos] == \".\" or article[pos] == \";\"  or article[pos] == \"!\" or article[pos] == \"?\":\n",
    "                    leftpos = pos\n",
    "                    break\n",
    "                if blank == span+1 or pos ==0: \n",
    "                    leftpos = pos\n",
    "                    break\n",
    "                pos = pos-1\n",
    "                if article[pos] == \" \": \n",
    "                    blank = blank +1\n",
    "            except IndexError: \n",
    "                leftpos = pos\n",
    "                break\n",
    "        pos = temp\n",
    "        blank = 0\n",
    "        #to post\n",
    "        while 1: \n",
    "            try:\n",
    "                if article[pos] == \".\" or article[pos] == \";\" or article[pos] == \"!\" or article[pos] == \"?\":\n",
    "                    rightpos = pos\n",
    "                    break\n",
    "                if blank == span+1: \n",
    "                    rightpos = pos\n",
    "                    break\n",
    "                pos = pos+1\n",
    "                if article[pos] == \" \": \n",
    "                    blank = blank +1\n",
    "            except IndexError: \n",
    "                rightpos = pos-1\n",
    "                break\n",
    "        if attribute in article[leftpos:rightpos]:\n",
    "            rt = rt+1\n",
    "    return (rt>0)"
   ]
  },
  {
   "cell_type": "code",
   "execution_count": 32,
   "metadata": {},
   "outputs": [],
   "source": [
    "brands = [i[0] for i in top_brands]"
   ]
  },
  {
   "cell_type": "code",
   "execution_count": 33,
   "metadata": {},
   "outputs": [],
   "source": [
    "cl2 = []\n",
    "for i in cl1:\n",
    "    cl2.append(\" \".join(i))"
   ]
  },
  {
   "cell_type": "code",
   "execution_count": 34,
   "metadata": {},
   "outputs": [],
   "source": [
    "asp_bd = []\n",
    "for brand in brands:  \n",
    "    temp = {}\n",
    "    for asp in asps:\n",
    "        for node in cl2:\n",
    "            article = node\n",
    "            if(myIdentifier(article,brand,asp,10000)): # Set the span to 10000 to catch the entire comment\n",
    "                if brand in temp.keys():\n",
    "                    temp[brand] = temp[brand]+1\n",
    "                    continue\n",
    "                temp[brand] = 1\n",
    "    asp_bd.append(temp)"
   ]
  },
  {
   "cell_type": "code",
   "execution_count": 35,
   "metadata": {},
   "outputs": [
    {
     "data": {
      "text/plain": [
       "[('acura', 1),\n",
       " ('bmw', 1),\n",
       " ('ford', 1),\n",
       " ('audi', 1),\n",
       " ('cadillac', 0),\n",
       " ('honda', 0),\n",
       " ('volkswagen', 0),\n",
       " ('infiniti', 0),\n",
       " ('mercedes', 0),\n",
       " ('lexus', 0)]"
      ]
     },
     "execution_count": 35,
     "metadata": {},
     "output_type": "execute_result"
    }
   ],
   "source": [
    "import operator\n",
    "myLift = lift(cl2)\n",
    "asp_count = 0\n",
    "for asp in asps:\n",
    "    asp_count = asp_count + myLift.__count__(asp)\n",
    "N = len(cl2)\n",
    "\n",
    "aspiration_brand_count = 0\n",
    "for node in cl2:\n",
    "   comment = node\n",
    "   if any(keyword in comment for keyword in asps) \\\n",
    "   and any(brand in comment for brand in brands):\n",
    "       aspiration_brand_count = aspiration_brand_count + 1\n",
    "    \n",
    "asp_bd_lift = {}\n",
    "for brand_asp in asp_bd:\n",
    "    brand = \"\".join(brand_asp.keys())\n",
    "    asp_bd_lift[brand] = \\\n",
    "    (N*brand_asp[brand])/(aspiration_brand_count*myLift.__count__(brand))\n",
    "\n",
    "sorted(asp_bd_lift.items(), key=operator.itemgetter(1), reverse = True)"
   ]
  },
  {
   "cell_type": "markdown",
   "metadata": {},
   "source": [
    "Based on our data, the most aspirational brand is Honda, followed closely by Mercedes. These two brands have lift values that are much higher than the rest of the brands in terms of the aspirational words defined above. This means that most people are talking about wanting a Honda. Honda can continue to market their cars and try to widen the gap between the other brands. We can credit Honda's success to the amount of dissimilarity that it exhibits in the MDS plot, as no other brands are close to Honda. Furthermore, Honda showed the most association with multiple attributes in Task C. This means that the brand is making itself differentiable (in a positive way) with its product and the different features avaiable. The business should continue to market Honda in this light."
   ]
  }
 ],
 "metadata": {
  "kernelspec": {
   "display_name": "Python 2",
   "language": "python",
   "name": "python2"
  },
  "language_info": {
   "codemirror_mode": {
    "name": "ipython",
    "version": 2
   },
   "file_extension": ".py",
   "mimetype": "text/x-python",
   "name": "python",
   "nbconvert_exporter": "python",
   "pygments_lexer": "ipython2",
   "version": "2.7.15"
  }
 },
 "nbformat": 4,
 "nbformat_minor": 2
}
